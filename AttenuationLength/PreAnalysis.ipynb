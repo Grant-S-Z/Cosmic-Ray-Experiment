{
 "cells": [
  {
   "cell_type": "code",
   "execution_count": 8,
   "metadata": {},
   "outputs": [
    {
     "name": "stderr",
     "output_type": "stream",
     "text": [
      "/tmp/ipykernel_179465/2368139569.py:71: RuntimeWarning: divide by zero encountered in scalar divide\n",
      "  uncertainty_t = np.append(uncertainty_t, (t[1] - t[0]) / delta_t_begin * 1.414)\n",
      "/tmp/ipykernel_179465/2368139569.py:71: RuntimeWarning: divide by zero encountered in scalar divide\n",
      "  uncertainty_t = np.append(uncertainty_t, (t[1] - t[0]) / delta_t_begin * 1.414)\n",
      "/tmp/ipykernel_179465/2368139569.py:71: RuntimeWarning: divide by zero encountered in scalar divide\n",
      "  uncertainty_t = np.append(uncertainty_t, (t[1] - t[0]) / delta_t_begin * 1.414)\n"
     ]
    },
    {
     "name": "stdout",
     "output_type": "stream",
     "text": [
      "Result:  0.825451779320633\n",
      "Correlation:  0.44220220850519554\n",
      "[7.82344369e-10 7.03426283e-10]\n",
      "Uncetainty:  0.17984386943650946\n",
      "Stat uncertainty : 0.14845244202627433\n"
     ]
    },
    {
     "data": {
      "image/png": "[encoded data removed]",
      "text/plain": [
       "<Figure size 640x480 with 1 Axes>"
      ]
     },
     "metadata": {},
     "output_type": "display_data"
    }
   ],
   "source": [
    "#import ROOT\n",
    "#from ROOT import TCanvas, RDataFrame\n",
    "import pandas as pd\n",
    "import numpy as np\n",
    "import scipy.stats as ss\n",
    "import matplotlib.pyplot as plt\n",
    "import seaborn as sns\n",
    "\n",
    "\n",
    "Nphoton=100\n",
    "n=1.581\n",
    "DetectorLength=0.605\n",
    "t1 = np.array([])\n",
    "t2 = np.array([])\n",
    "q1 = np.array([])\n",
    "q2 = np.array([])\n",
    "uncertainty_t = np.array([])\n",
    "\n",
    "for i in range(41):\n",
    "    # Read csv files\n",
    "    df = pd.read_csv(\"../ExperimentData/AttenuationLength/lengtha\" + str(i) + \".csv\")\n",
    "    t = df['Time(s)'].values\n",
    "    \n",
    "    ch1 = df['CH1V'].values\n",
    "    ch2 = df['CH2V'].values\n",
    "    \n",
    "    base1 = np.average(ch1[0:300]) # baseline\n",
    "    base2 = np.average(ch2[0:300])\n",
    "\n",
    "    # Find indexes of minimum\n",
    "    min1 = np.min(ch1)\n",
    "    min2 = np.min(ch2)\n",
    "    i1 = np.argmin(ch1) # i1 = np.where(np.min(ch1))\n",
    "    i2 = np.argmin(ch2)\n",
    "\n",
    "    # Traverse arrays to find the integral interval\n",
    "    ch1s = ch1 - (0.1 * min1 + 0.9 * base1)\n",
    "    ch2s = ch2 - (0.1 * min2 + 0.9 * base2)\n",
    "\n",
    "    [index1_begin, index1_end, index2_begin, index2_end] = [i1, i1, i2, i2]\n",
    "\n",
    "    while (ch1s[index1_begin] < 0):\n",
    "        index1_begin -= 1\n",
    "\n",
    "    while (ch1s[index1_end] < 0):\n",
    "        index1_end += 1\n",
    "\n",
    "    while (ch2s[index2_begin] < 0):\n",
    "        index2_begin -= 1\n",
    "\n",
    "    while (ch2s[index2_end] < 0):\n",
    "        index2_end += 1\n",
    "\n",
    "\n",
    "    [Q1, Q2] = [0, 0]\n",
    "    for j in range(index1_begin, index1_end):\n",
    "        delta_t = t[j + 1] - t[j]\n",
    "        Q1 += delta_t * (base1 - ch1[j])\n",
    "        \n",
    "    for j in range(index2_begin, index2_end):\n",
    "        delta_t = t[j + 1] - t[j]\n",
    "        Q2 += delta_t * (base2 - ch2[j])\n",
    "\n",
    "    t1 = np.append(t1, t[index1_begin])\n",
    "    t2 = np.append(t2, t[index2_begin])\n",
    "    q1 = np.append(q1, Q1)\n",
    "    q2 = np.append(q2, Q2)\n",
    "\n",
    "    # Uncetainty\n",
    "    delta_t_begin = np.abs(t[index1_begin] - t[index2_begin])\n",
    "    uncertainty_t = np.append(uncertainty_t, (t[1] - t[0]) / delta_t_begin * 1.414)\n",
    "\n",
    "dt = t1 - t2\n",
    "logq = np.log(q1/q2)\n",
    "plt.scatter(logq, dt)\n",
    "plt.title(\"Distribution and Fitting\")\n",
    "plt.xlabel(\"q ratio\")\n",
    "plt.ylabel(\"delta t\")\n",
    "\n",
    "z, cov = np.polyfit(logq, dt, 1, cov=True) # higher power first\n",
    "slope, intercept, r_value, p_value, std_err = ss.linregress(logq, dt)\n",
    "\n",
    "t1 = np.linspace(0, 1.5, 100)\n",
    "\n",
    "plt.plot(t1, t1*slope + intercept, 'r-')\n",
    "plt.savefig(\"./figs/dist.png\")\n",
    "\n",
    "L0=-z[0] * 3e8/n\n",
    "\n",
    "print(\"Result: \", L0)\n",
    "print(\"Correlation: \", r_value**2)\n",
    "print(np.sqrt(np.diag(cov)))\n",
    "\n",
    "print(\"Uncetainty: \", np.sqrt(np.diag(cov))[0] / -z[0])\n",
    "\n",
    "print(\"Stat uncertainty :\",np.sqrt(np.diag(cov))[0] / -z[0]*L0)\n"
   ]
  },
  {
   "cell_type": "code",
   "execution_count": 9,
   "metadata": {},
   "outputs": [
    {
     "name": "stdout",
     "output_type": "stream",
     "text": [
      "Photon uncertainty:  0.09992390635283664 \n",
      "Time uncertainty : 0.04692367908061114 \n",
      "Sysm uncertainty : 0.11039301934121853 \n",
      "Sysm uncertainty : 0.09112411423978589\n"
     ]
    }
   ],
   "source": [
    "# sysm uncertainty\n",
    "\n",
    "p=np.exp(-1*DetectorLength/L0)\n",
    "sigma_photon=np.sqrt(4/Nphoton*p*(1-p))\n",
    "\n",
    "\n",
    "delta_t=5e-10\n",
    "c=3e8\n",
    "sigma_t=delta_t*c/np.sqrt(6)/L0/n\n",
    "\n",
    "print(\"Photon uncertainty: \",sigma_photon,\"\\nTime uncertainty :\", sigma_t,\"\\nSysm uncertainty :\",np.sqrt(sigma_photon**2+sigma_t**2),\"\\nSysm uncertainty :\",np.sqrt(sigma_photon**2+sigma_t**2)*L0)\n",
    "\n"
   ]
  }
 ],
 "metadata": {
  "kernelspec": {
   "display_name": "pygeant4",
   "language": "python",
   "name": "python3"
  },
  "language_info": {
   "codemirror_mode": {
    "name": "ipython",
    "version": 3
   },
   "file_extension": ".py",
   "mimetype": "text/x-python",
   "name": "python",
   "nbconvert_exporter": "python",
   "pygments_lexer": "ipython3",
   "version": "3.11.2"
  }
 },
 "nbformat": 4,
 "nbformat_minor": 2
}
